{
  "nbformat": 4,
  "nbformat_minor": 0,
  "metadata": {
    "kernelspec": {
      "display_name": "Python 3",
      "language": "python",
      "name": "python3"
    },
    "language_info": {
      "codemirror_mode": {
        "name": "ipython",
        "version": 3
      },
      "file_extension": ".py",
      "mimetype": "text/x-python",
      "name": "python",
      "nbconvert_exporter": "python",
      "pygments_lexer": "ipython3",
      "version": "3.6.9"
    },
    "colab": {
      "name": "LogisticRegression-3.ipynb",
      "provenance": [],
      "toc_visible": true
    }
  },
  "cells": [
    {
      "cell_type": "markdown",
      "metadata": {
        "id": "5d8N7Xy0mRxT",
        "colab_type": "text"
      },
      "source": [
        "# **Klasifikasi Data Larik Sensor Gas Untuk Membedakan Kopi Arabika dan Robusta Dengan Regresi Logistik**"
      ]
    },
    {
      "cell_type": "markdown",
      "metadata": {
        "id": "LOVjb9PtmRxU",
        "colab_type": "text"
      },
      "source": [
        "sensor yang digunakan yaitu MQ-3, MQ-4, TGS 2610, MQ-136, dan TGS 822 \\\n",
        "oleh **Zandy Yudha Perwira**\n",
        "___"
      ]
    },
    {
      "cell_type": "code",
      "metadata": {
        "id": "vHaYTuLSmRxV",
        "colab_type": "code",
        "colab": {}
      },
      "source": [
        "import numpy as np\n",
        "import pandas as pd\n",
        "import matplotlib.pyplot as plt\n",
        "from sklearn.decomposition import PCA\n",
        "from sklearn.preprocessing import StandardScaler\n",
        "from sklearn.metrics import confusion_matrix \n",
        "from sklearn.metrics import accuracy_score \n",
        "from sklearn.metrics import classification_report"
      ],
      "execution_count": 0,
      "outputs": []
    },
    {
      "cell_type": "markdown",
      "metadata": {
        "id": "BdkjWN62mRxY",
        "colab_type": "text"
      },
      "source": [
        "## 2. Kelas Regresi Logistik"
      ]
    },
    {
      "cell_type": "markdown",
      "metadata": {
        "id": "v3bfQT1qmRxZ",
        "colab_type": "text"
      },
      "source": [
        "Update bobot menggunakan gradient dari log likelihood \\\n",
        "$$\n",
        "\\begin{aligned}\n",
        "\\begin{equation*}\n",
        "  \\theta^{new} = \\theta^{old} + \\eta \\sum_{i=1}^{n}{[y^{(i)}-\\sigma(\\theta^Tx^{(i)})]x_{j}^{(i)}} \\\\ \\\\\n",
        "  \\theta = bobot \\\\\n",
        "  \\eta = learning\\ rate \\\\\n",
        "  n = jumlah\\ data \\\\\n",
        "  j = jumlah\\ fitur \\\\\n",
        "  x = data\\ fitur \\\\ \n",
        "  y = label \\\\\n",
        "\\end{equation*}\n",
        "\\end{aligned} $$"
      ]
    },
    {
      "cell_type": "markdown",
      "metadata": {
        "id": "Hw0NoJyemRxZ",
        "colab_type": "text"
      },
      "source": [
        "Loss function menggunakan Logistic Loss Function: \\\n",
        "$$\n",
        "\\begin{aligned}\n",
        "\\begin{equation*}\n",
        "   Cost(h_{\\theta}(x),y) = \\begin{cases}\n",
        "-\\log(h_{\\theta}(x)) & \\quad jika\\ y = 1 \\\\\n",
        "-\\log(1-h_{\\theta}(x)) & \\quad jika\\ y = 0.\n",
        "\\end{cases} \\\\\n",
        " \\theta = bobot \\\\\n",
        "  h = fungsi\\ logistik \\\\\n",
        "\\end{equation*}\n",
        "\\end{aligned} $$ \n",
        "\n",
        "$$\n",
        "\\begin{aligned}\n",
        "\\begin{equation*}\n",
        "   J(\\theta) = \\frac{1}{n} \\sum_{i=1}^{n}{Cost(h_{\\theta}(x^{(i)}),y^{(i)})} \\\\\n",
        "  J(\\theta) = fungsi\\ cost \\\\\n",
        "  h = fungsi\\ logistik \\\\\n",
        "  x = data\\ fitur \\\\ \n",
        "  y = label \\\\\n",
        "\\end{equation*}\n",
        "\\end{aligned} $$ "
      ]
    },
    {
      "cell_type": "code",
      "metadata": {
        "id": "QZcNXViDmRxa",
        "colab_type": "code",
        "colab": {}
      },
      "source": [
        "class LogisticRegression():\n",
        "    def __init__(self, data_x, data_y, learning_rate=0.01, num_iteration=100000, fit_intercept=True):\n",
        "        self.learning_rate = learning_rate\n",
        "        self.num_iteration = num_iteration\n",
        "        self.X = data_x\n",
        "        self.y = data_y\n",
        "        self.theta = np.zeros(self.X.shape[1])\n",
        "        self.gradients = np.zeros(self.X.shape[1])\n",
        "        self.fit_intercept = fit_intercept\n",
        "        \n",
        "    def __add_intercept(self, X):\n",
        "        intercept = np.ones((X.shape[0], 1))\n",
        "        return np.concatenate((intercept, X), axis=1)\n",
        "    \n",
        "    def __sigmoid(self, z):\n",
        "        return 1 / (1 + np.exp(-z))\n",
        "    \n",
        "    def __loss_function(self, data_X, data_y):\n",
        "        temp = 0\n",
        "        for xi, yi in zip(data_X, data_y):\n",
        "            p = self.__sigmoid(np.dot(self.theta.T, xi))\n",
        "    \n",
        "            temp += (yi * np.log(p)) + ((1 - yi) * np.log(1 - p))\n",
        "        return temp\n",
        "\n",
        "    def __loss(self, h, y):\n",
        "        temp = 0\n",
        "        for i in range(len(y)):\n",
        "            if y[i] == 1:\n",
        "                temp += -y[i] * np.log(h[i])\n",
        "            elif y[i] == 0:\n",
        "                temp += - (1 - y[i]) * np.log(1 - h[i])\n",
        "        return temp / len(y)\n",
        "    \n",
        "    def __compute_gradient(self, data_xi, data_xij, data_yi):\n",
        "        return (data_yi - self.__sigmoid(np.dot(self.theta.T, data_xi))) * data_xij\n",
        "    \n",
        "    def train(self):\n",
        "        if self.fit_intercept:\n",
        "            self.X = self.__add_intercept(self.X)\n",
        "            self.theta = np.zeros(self.X.shape[1])\n",
        "            self.gradients = np.zeros(self.X.shape[1])\n",
        "        \n",
        "        for i in range(self.num_iteration):\n",
        "            for xi, yi in zip(self.X, self.y):\n",
        "                for idx,xij in enumerate(xi):\n",
        "                    self.gradients[idx] += self.__compute_gradient(xi, xij, yi)\n",
        "                \n",
        "            for j in range(self.X.shape[1]):\n",
        "                self.theta[j] += self.learning_rate * self.gradients[j]\n",
        "                self.gradients[j] = 0\n",
        "             \n",
        "            if(i % 100 == 0):\n",
        "                z = np.dot(self.X, self.theta)\n",
        "                h = self.__sigmoid(z)\n",
        "                loss = self.__loss(h, self.y)\n",
        "                print(f'loss: {loss} \\t')\n",
        "\n",
        "    def predict_prob(self, X):\n",
        "        if self.fit_intercept:\n",
        "            self.X = self.__add_intercept(X)\n",
        "    \n",
        "        return self.__sigmoid(np.dot(self.X, self.theta.T))\n",
        "    \n",
        "    def predict(self, X):\n",
        "        return self.predict_prob(X).round()"
      ],
      "execution_count": 0,
      "outputs": []
    },
    {
      "cell_type": "markdown",
      "metadata": {
        "id": "wtziL_l0mRxe",
        "colab_type": "text"
      },
      "source": [
        "## 3. Pra-premrosesan Data"
      ]
    },
    {
      "cell_type": "code",
      "metadata": {
        "id": "xMt3kEC1mRxf",
        "colab_type": "code",
        "colab": {}
      },
      "source": [
        "def data_preprocessing(standard_scaler, pca, data, col_features, col_target, test=False):\n",
        "    # Separate data to feature data & target data\n",
        "    x = data.loc[:, col_features].values\n",
        "    y = data.loc[:, col_target].values\n",
        "    \n",
        "    # Fit transformation to feature columns\n",
        "    if test == False:\n",
        "        x = standard_scaler.fit_transform(x)\n",
        "    else:\n",
        "        x = standard_scaler.transform(x)\n",
        "    \n",
        "    if test == False:\n",
        "        principal_components = pca.fit_transform(x)\n",
        "    else:\n",
        "        principal_components = pca.transform(x)\n",
        "        \n",
        "    pc_data = pd.DataFrame(data = principal_components, columns = ['PC 1', 'PC 2'])\n",
        "    \n",
        "    # concate with target column\n",
        "    pc_data = pd.concat([pc_data, pd.DataFrame(y)], axis=1, ignore_index=True)\n",
        "    pc_data.columns = ['PC 1', 'PC 2', 'Target']\n",
        "    \n",
        "    return pc_data"
      ],
      "execution_count": 0,
      "outputs": []
    },
    {
      "cell_type": "markdown",
      "metadata": {
        "id": "pxHFQvL8mRxh",
        "colab_type": "text"
      },
      "source": [
        "## 4. Fungsi prediksi"
      ]
    },
    {
      "cell_type": "code",
      "metadata": {
        "id": "TfzmI_0HmRxi",
        "colab_type": "code",
        "colab": {}
      },
      "source": [
        "def predict(model, sensor_data):\n",
        "    components = pca.transform(sensor_data)\n",
        "    return model.predict(components)"
      ],
      "execution_count": 0,
      "outputs": []
    },
    {
      "cell_type": "markdown",
      "metadata": {
        "id": "kUDwIQVEmRxl",
        "colab_type": "text"
      },
      "source": [
        "## 5. Klasifikasi Data "
      ]
    },
    {
      "cell_type": "markdown",
      "metadata": {
        "id": "6aE3XvwQmRxl",
        "colab_type": "text"
      },
      "source": [
        "### - Membaca data dari file CSV"
      ]
    },
    {
      "cell_type": "code",
      "metadata": {
        "id": "GrSQkPKkmRxm",
        "colab_type": "code",
        "outputId": "c4077bc1-1093-4c94-b729-d6662ee780a5",
        "colab": {
          "base_uri": "https://localhost:8080/",
          "height": 419
        }
      },
      "source": [
        "# read sensor data from csv\n",
        "arabica = pd.read_csv('arabica.csv')  \n",
        "robusta = pd.read_csv('robusta.csv')\n",
        "\n",
        "# combine the both of those data\n",
        "data = pd.concat([arabica, robusta], ignore_index=True)\n",
        "data"
      ],
      "execution_count": 0,
      "outputs": [
        {
          "output_type": "execute_result",
          "data": {
            "text/html": [
              "<div>\n",
              "<style scoped>\n",
              "    .dataframe tbody tr th:only-of-type {\n",
              "        vertical-align: middle;\n",
              "    }\n",
              "\n",
              "    .dataframe tbody tr th {\n",
              "        vertical-align: top;\n",
              "    }\n",
              "\n",
              "    .dataframe thead th {\n",
              "        text-align: right;\n",
              "    }\n",
              "</style>\n",
              "<table border=\"1\" class=\"dataframe\">\n",
              "  <thead>\n",
              "    <tr style=\"text-align: right;\">\n",
              "      <th></th>\n",
              "      <th>Waktu</th>\n",
              "      <th>MQ-3</th>\n",
              "      <th>MQ-4</th>\n",
              "      <th>TGS 2610</th>\n",
              "      <th>MQ-136</th>\n",
              "      <th>TGS 822</th>\n",
              "      <th>Type</th>\n",
              "    </tr>\n",
              "  </thead>\n",
              "  <tbody>\n",
              "    <tr>\n",
              "      <th>0</th>\n",
              "      <td>11:26:55 AM</td>\n",
              "      <td>1739.5</td>\n",
              "      <td>392.0</td>\n",
              "      <td>44.1</td>\n",
              "      <td>1082.9</td>\n",
              "      <td>-39.2</td>\n",
              "      <td>0</td>\n",
              "    </tr>\n",
              "    <tr>\n",
              "      <th>1</th>\n",
              "      <td>11:26:56 AM</td>\n",
              "      <td>1739.5</td>\n",
              "      <td>396.9</td>\n",
              "      <td>44.1</td>\n",
              "      <td>1082.9</td>\n",
              "      <td>-39.2</td>\n",
              "      <td>0</td>\n",
              "    </tr>\n",
              "    <tr>\n",
              "      <th>2</th>\n",
              "      <td>11:26:57 AM</td>\n",
              "      <td>1739.5</td>\n",
              "      <td>396.9</td>\n",
              "      <td>39.2</td>\n",
              "      <td>1082.9</td>\n",
              "      <td>-39.2</td>\n",
              "      <td>0</td>\n",
              "    </tr>\n",
              "    <tr>\n",
              "      <th>3</th>\n",
              "      <td>11:26:58 AM</td>\n",
              "      <td>1739.5</td>\n",
              "      <td>396.9</td>\n",
              "      <td>39.2</td>\n",
              "      <td>1082.9</td>\n",
              "      <td>-39.2</td>\n",
              "      <td>0</td>\n",
              "    </tr>\n",
              "    <tr>\n",
              "      <th>4</th>\n",
              "      <td>11:26:59 AM</td>\n",
              "      <td>1739.5</td>\n",
              "      <td>396.9</td>\n",
              "      <td>39.2</td>\n",
              "      <td>1082.9</td>\n",
              "      <td>-39.2</td>\n",
              "      <td>0</td>\n",
              "    </tr>\n",
              "    <tr>\n",
              "      <th>...</th>\n",
              "      <td>...</td>\n",
              "      <td>...</td>\n",
              "      <td>...</td>\n",
              "      <td>...</td>\n",
              "      <td>...</td>\n",
              "      <td>...</td>\n",
              "      <td>...</td>\n",
              "    </tr>\n",
              "    <tr>\n",
              "      <th>117</th>\n",
              "      <td>11:53:05 AM</td>\n",
              "      <td>1597.4</td>\n",
              "      <td>499.8</td>\n",
              "      <td>73.5</td>\n",
              "      <td>955.5</td>\n",
              "      <td>-137.2</td>\n",
              "      <td>1</td>\n",
              "    </tr>\n",
              "    <tr>\n",
              "      <th>118</th>\n",
              "      <td>11:53:06 AM</td>\n",
              "      <td>1597.4</td>\n",
              "      <td>504.7</td>\n",
              "      <td>73.5</td>\n",
              "      <td>960.4</td>\n",
              "      <td>-137.2</td>\n",
              "      <td>1</td>\n",
              "    </tr>\n",
              "    <tr>\n",
              "      <th>119</th>\n",
              "      <td>11:53:07 AM</td>\n",
              "      <td>1602.3</td>\n",
              "      <td>499.8</td>\n",
              "      <td>78.4</td>\n",
              "      <td>970.2</td>\n",
              "      <td>-137.2</td>\n",
              "      <td>1</td>\n",
              "    </tr>\n",
              "    <tr>\n",
              "      <th>120</th>\n",
              "      <td>11:53:08 AM</td>\n",
              "      <td>1602.3</td>\n",
              "      <td>499.8</td>\n",
              "      <td>78.4</td>\n",
              "      <td>970.2</td>\n",
              "      <td>-137.2</td>\n",
              "      <td>1</td>\n",
              "    </tr>\n",
              "    <tr>\n",
              "      <th>121</th>\n",
              "      <td>11:53:09 AM</td>\n",
              "      <td>1602.3</td>\n",
              "      <td>504.7</td>\n",
              "      <td>78.4</td>\n",
              "      <td>975.1</td>\n",
              "      <td>-137.2</td>\n",
              "      <td>1</td>\n",
              "    </tr>\n",
              "  </tbody>\n",
              "</table>\n",
              "<p>122 rows × 7 columns</p>\n",
              "</div>"
            ],
            "text/plain": [
              "             Waktu    MQ-3   MQ-4  TGS 2610  MQ-136  TGS 822  Type\n",
              "0     11:26:55 AM   1739.5  392.0      44.1  1082.9    -39.2     0\n",
              "1     11:26:56 AM   1739.5  396.9      44.1  1082.9    -39.2     0\n",
              "2     11:26:57 AM   1739.5  396.9      39.2  1082.9    -39.2     0\n",
              "3     11:26:58 AM   1739.5  396.9      39.2  1082.9    -39.2     0\n",
              "4     11:26:59 AM   1739.5  396.9      39.2  1082.9    -39.2     0\n",
              "..             ...     ...    ...       ...     ...      ...   ...\n",
              "117   11:53:05 AM   1597.4  499.8      73.5   955.5   -137.2     1\n",
              "118   11:53:06 AM   1597.4  504.7      73.5   960.4   -137.2     1\n",
              "119   11:53:07 AM   1602.3  499.8      78.4   970.2   -137.2     1\n",
              "120   11:53:08 AM   1602.3  499.8      78.4   970.2   -137.2     1\n",
              "121   11:53:09 AM   1602.3  504.7      78.4   975.1   -137.2     1\n",
              "\n",
              "[122 rows x 7 columns]"
            ]
          },
          "metadata": {
            "tags": []
          },
          "execution_count": 10
        }
      ]
    },
    {
      "cell_type": "markdown",
      "metadata": {
        "id": "ktUqatSQmRxq",
        "colab_type": "text"
      },
      "source": [
        "### - Pra-premrosesan data"
      ]
    },
    {
      "cell_type": "code",
      "metadata": {
        "id": "xJhp0nCbmRxr",
        "colab_type": "code",
        "outputId": "513b3f69-1031-49c8-c2dc-d3a4cc5f8e33",
        "colab": {
          "base_uri": "https://localhost:8080/",
          "height": 419
        }
      },
      "source": [
        "# Preprocessing data\n",
        "# Note: target = 0 (Arabica) and  1 (Robusta)\n",
        "pca = PCA(.95)\n",
        "standard_scaler = StandardScaler()\n",
        "\n",
        "feature_cols = ['MQ-3', 'MQ-4', 'TGS 2610', 'MQ-136', 'TGS 822'];\n",
        "target_cols = ['Type']\n",
        "pc_data = data_preprocessing(standard_scaler, pca, data, feature_cols, target_cols)\n",
        "pc_data"
      ],
      "execution_count": 0,
      "outputs": [
        {
          "output_type": "execute_result",
          "data": {
            "text/html": [
              "<div>\n",
              "<style scoped>\n",
              "    .dataframe tbody tr th:only-of-type {\n",
              "        vertical-align: middle;\n",
              "    }\n",
              "\n",
              "    .dataframe tbody tr th {\n",
              "        vertical-align: top;\n",
              "    }\n",
              "\n",
              "    .dataframe thead th {\n",
              "        text-align: right;\n",
              "    }\n",
              "</style>\n",
              "<table border=\"1\" class=\"dataframe\">\n",
              "  <thead>\n",
              "    <tr style=\"text-align: right;\">\n",
              "      <th></th>\n",
              "      <th>PC 1</th>\n",
              "      <th>PC 2</th>\n",
              "      <th>Target</th>\n",
              "    </tr>\n",
              "  </thead>\n",
              "  <tbody>\n",
              "    <tr>\n",
              "      <th>0</th>\n",
              "      <td>-2.159357</td>\n",
              "      <td>-0.464098</td>\n",
              "      <td>0</td>\n",
              "    </tr>\n",
              "    <tr>\n",
              "      <th>1</th>\n",
              "      <td>-2.097455</td>\n",
              "      <td>-0.399828</td>\n",
              "      <td>0</td>\n",
              "    </tr>\n",
              "    <tr>\n",
              "      <th>2</th>\n",
              "      <td>-2.028674</td>\n",
              "      <td>-0.622734</td>\n",
              "      <td>0</td>\n",
              "    </tr>\n",
              "    <tr>\n",
              "      <th>3</th>\n",
              "      <td>-2.028674</td>\n",
              "      <td>-0.622734</td>\n",
              "      <td>0</td>\n",
              "    </tr>\n",
              "    <tr>\n",
              "      <th>4</th>\n",
              "      <td>-2.028674</td>\n",
              "      <td>-0.622734</td>\n",
              "      <td>0</td>\n",
              "    </tr>\n",
              "    <tr>\n",
              "      <th>...</th>\n",
              "      <td>...</td>\n",
              "      <td>...</td>\n",
              "      <td>...</td>\n",
              "    </tr>\n",
              "    <tr>\n",
              "      <th>117</th>\n",
              "      <td>0.821147</td>\n",
              "      <td>2.754049</td>\n",
              "      <td>1</td>\n",
              "    </tr>\n",
              "    <tr>\n",
              "      <th>118</th>\n",
              "      <td>0.866785</td>\n",
              "      <td>2.822634</td>\n",
              "      <td>1</td>\n",
              "    </tr>\n",
              "    <tr>\n",
              "      <th>119</th>\n",
              "      <td>0.686799</td>\n",
              "      <td>2.995501</td>\n",
              "      <td>1</td>\n",
              "    </tr>\n",
              "    <tr>\n",
              "      <th>120</th>\n",
              "      <td>0.686799</td>\n",
              "      <td>2.995501</td>\n",
              "      <td>1</td>\n",
              "    </tr>\n",
              "    <tr>\n",
              "      <th>121</th>\n",
              "      <td>0.732437</td>\n",
              "      <td>3.064086</td>\n",
              "      <td>1</td>\n",
              "    </tr>\n",
              "  </tbody>\n",
              "</table>\n",
              "<p>122 rows × 3 columns</p>\n",
              "</div>"
            ],
            "text/plain": [
              "         PC 1      PC 2  Target\n",
              "0   -2.159357 -0.464098       0\n",
              "1   -2.097455 -0.399828       0\n",
              "2   -2.028674 -0.622734       0\n",
              "3   -2.028674 -0.622734       0\n",
              "4   -2.028674 -0.622734       0\n",
              "..        ...       ...     ...\n",
              "117  0.821147  2.754049       1\n",
              "118  0.866785  2.822634       1\n",
              "119  0.686799  2.995501       1\n",
              "120  0.686799  2.995501       1\n",
              "121  0.732437  3.064086       1\n",
              "\n",
              "[122 rows x 3 columns]"
            ]
          },
          "metadata": {
            "tags": []
          },
          "execution_count": 11
        }
      ]
    },
    {
      "cell_type": "markdown",
      "metadata": {
        "id": "ynFnNVnrmRxu",
        "colab_type": "text"
      },
      "source": [
        "### - Plot ciri & reduksi dimensi dengan PCA"
      ]
    },
    {
      "cell_type": "code",
      "metadata": {
        "id": "x3el5G5FmRxv",
        "colab_type": "code",
        "outputId": "2a5a52a9-2c13-4a79-a2a1-5afba74d783a",
        "colab": {
          "base_uri": "https://localhost:8080/",
          "height": 523
        }
      },
      "source": [
        "fig = plt.figure(figsize = (8,8))\n",
        "ax = fig.add_subplot(1,1,1) \n",
        "ax.set_xlabel('PC 1', fontsize = 15)\n",
        "# ax.set_ylabel('PC 2', fontsize = 15)\n",
        "ax.set_title('2 component PCA', fontsize = 20)\n",
        "targets = [0, 1]\n",
        "colors = ['r', 'b']\n",
        "plt.ylim(bottom=-0.01)\n",
        "for target, color in zip(targets,colors):\n",
        "    indicesToKeep = pc_data['Target'] == target\n",
        "    ax.scatter(pc_data.loc[indicesToKeep, 'PC 1']\n",
        "               , np.zeros(len(pc_data.loc[indicesToKeep, 'PC 1']))\n",
        "               , c = color\n",
        "               , s = 50)\n",
        "ax.legend(['Arabica', 'Robusta'])\n",
        "ax.grid()"
      ],
      "execution_count": 0,
      "outputs": [
        {
          "output_type": "display_data",
          "data": {
            "image/png": "[encoded data removed]",
            "text/plain": [
              "<Figure size 576x576 with 1 Axes>"
            ]
          },
          "metadata": {
            "tags": [],
            "needs_background": "light"
          }
        }
      ]
    },
    {
      "cell_type": "code",
      "metadata": {
        "id": "k4DzfnAYmRxx",
        "colab_type": "code",
        "colab": {}
      },
      "source": [
        "data_x = pc_data[['PC 1']].values\n",
        "data_y = pc_data[['Target']].values\n",
        "data_y = data_y.flatten()"
      ],
      "execution_count": 0,
      "outputs": []
    },
    {
      "cell_type": "markdown",
      "metadata": {
        "id": "b2F22JKdmRxz",
        "colab_type": "text"
      },
      "source": [
        "### - Membuat obyek dari kelas LogisticRegression"
      ]
    },
    {
      "cell_type": "code",
      "metadata": {
        "id": "WUZMsly1mRx0",
        "colab_type": "code",
        "colab": {}
      },
      "source": [
        "model = LogisticRegression(data_x=data_x, data_y=data_y, learning_rate=0.01, num_iteration=10000)"
      ],
      "execution_count": 0,
      "outputs": []
    },
    {
      "cell_type": "markdown",
      "metadata": {
        "id": "9pbcsxndmRx3",
        "colab_type": "text"
      },
      "source": [
        "### - Training Data"
      ]
    },
    {
      "cell_type": "code",
      "metadata": {
        "id": "QZaH8Ot0mRx3",
        "colab_type": "code",
        "outputId": "19c2093d-aa3a-435c-8882-fd285c2833fa",
        "colab": {
          "base_uri": "https://localhost:8080/",
          "height": 1000
        }
      },
      "source": [
        "%time model.train()"
      ],
      "execution_count": 0,
      "outputs": [
        {
          "output_type": "stream",
          "text": [
            "loss: 0.12144125725018144 \t\n",
            "loss: 0.004761466005767886 \t\n",
            "loss: 0.002559027696268416 \t\n",
            "loss: 0.0017608013404492764 \t\n",
            "loss: 0.0013455716043728023 \t\n",
            "loss: 0.0010902905955957303 \t\n",
            "loss: 0.0009171956270722662 \t\n",
            "loss: 0.0007919800743194295 \t\n",
            "loss: 0.0006971299050431383 \t\n",
            "loss: 0.0006227589786205581 \t\n",
            "loss: 0.0005628598038078577 \t\n",
            "loss: 0.0005135692969354597 \t\n",
            "loss: 0.000472289332823994 \t\n",
            "loss: 0.0004372076084913724 \t\n",
            "loss: 0.00040702111231564006 \t\n",
            "loss: 0.0003807687743808751 \t\n",
            "loss: 0.0003577260842304322 \t\n",
            "loss: 0.00033733644770650174 \t\n",
            "loss: 0.0003191651524652096 \t\n",
            "loss: 0.00030286770196749055 \t\n",
            "loss: 0.00028816754164170933 \t\n",
            "loss: 0.0002748400785420936 \t\n",
            "loss: 0.0002627010120830195 \t\n",
            "loss: 0.0002515976766511646 \t\n",
            "loss: 0.00024140252607497624 \t\n",
            "loss: 0.00023200816588523162 \t\n",
            "loss: 0.00022332352050957502 \t\n",
            "loss: 0.00021527084383299064 \t\n",
            "loss: 0.0002077833641660882 \t\n",
            "loss: 0.00020080341183308545 \t\n",
            "loss: 0.0001942809177418314 \t\n",
            "loss: 0.00018817219987833222 \t\n",
            "loss: 0.0001824389752702629 \t\n",
            "loss: 0.00017704754998779795 \t\n",
            "loss: 0.00017196815082547742 \t\n",
            "loss: 0.00016717437055659346 \t\n",
            "loss: 0.0001626427048514638 \t\n",
            "loss: 0.0001583521636537634 \t\n",
            "loss: 0.00015428394340466603 \t\n",
            "loss: 0.00015042114927680845 \t\n",
            "loss: 0.00014674855873268838 \t\n",
            "loss: 0.00014325241940427158 \t\n",
            "loss: 0.0001399202756161717 \t\n",
            "loss: 0.00013674081892329758 \t\n",
            "loss: 0.000133703758870188 \t\n",
            "loss: 0.00013079971084874284 \t\n",
            "loss: 0.00012802009847104912 \t\n",
            "loss: 0.00012535706831044415 \t\n",
            "loss: 0.00012280341521964507 \t\n",
            "loss: 0.00012035251672541655 \t\n",
            "loss: 0.0001179982752376343 \t\n",
            "loss: 0.00011573506700733301 \t\n",
            "loss: 0.00011355769693154119 \t\n",
            "loss: 0.00011146135843754093 \t\n",
            "loss: 0.00010944159779269331 \t\n",
            "loss: 0.00010749428227987131 \t\n",
            "loss: 0.00010561557175895877 \t\n",
            "loss: 0.00010380189320075985 \t\n",
            "loss: 0.00010204991783709601 \t\n",
            "loss: 0.00010035654061875141 \t\n",
            "loss: 9.871886171342346e-05 \t\n",
            "loss: 9.713416981123935e-05 \t\n",
            "loss: 9.559992703512017e-05 \t\n",
            "loss: 9.411375527836998e-05 \t\n",
            "loss: 9.267342381487387e-05 \t\n",
            "loss: 9.127683804523626e-05 \t\n",
            "loss: 8.992202925928922e-05 \t\n",
            "loss: 8.860714530952357e-05 \t\n",
            "loss: 8.733044210202828e-05 \t\n",
            "loss: 8.609027582260316e-05 \t\n",
            "loss: 8.488509582489623e-05 \t\n",
            "loss: 8.371343811579618e-05 \t\n",
            "loss: 8.257391938020171e-05 \t\n",
            "loss: 8.146523149383846e-05 \t\n",
            "loss: 8.038613647823918e-05 \t\n",
            "loss: 7.933546185668155e-05 \t\n",
            "loss: 7.831209637467192e-05 \t\n",
            "loss: 7.731498605171803e-05 \t\n",
            "loss: 7.634313053496723e-05 \t\n",
            "loss: 7.53955797280958e-05 \t\n",
            "loss: 7.447143067158322e-05 \t\n",
            "loss: 7.356982465255576e-05 \t\n",
            "loss: 7.26899445249022e-05 \t\n",
            "loss: 7.18310122219133e-05 \t\n",
            "loss: 7.099228644563959e-05 \t\n",
            "loss: 7.01730605182385e-05 \t\n",
            "loss: 6.937266038246215e-05 \t\n",
            "loss: 6.859044273918103e-05 \t\n",
            "loss: 6.7825793311153e-05 \t\n",
            "loss: 6.707812522313656e-05 \t\n",
            "loss: 6.634687748949927e-05 \t\n",
            "loss: 6.563151360074561e-05 \t\n",
            "loss: 6.493152020193655e-05 \t\n",
            "loss: 6.424640585571069e-05 \t\n",
            "loss: 6.357569988387763e-05 \t\n",
            "loss: 6.291895128181616e-05 \t\n",
            "loss: 6.227572770015612e-05 \t\n",
            "loss: 6.164561448938228e-05 \t\n",
            "loss: 6.102821380229757e-05 \t\n",
            "loss: 6.042314375078107e-05 \t\n",
            "CPU times: user 22.8 s, sys: 1.87 s, total: 24.6 s\n",
            "Wall time: 22.3 s\n"
          ],
          "name": "stdout"
        }
      ]
    },
    {
      "cell_type": "markdown",
      "metadata": {
        "id": "vSo4_dnCmRyC",
        "colab_type": "text"
      },
      "source": [
        "### - Cetak Nilai Theta"
      ]
    },
    {
      "cell_type": "code",
      "metadata": {
        "id": "W-DrnANhmRyC",
        "colab_type": "code",
        "outputId": "a0f9747c-a646-436d-84fe-7be28bc66a9e",
        "colab": {
          "base_uri": "https://localhost:8080/",
          "height": 34
        }
      },
      "source": [
        "model.theta"
      ],
      "execution_count": 0,
      "outputs": [
        {
          "output_type": "execute_result",
          "data": {
            "text/plain": [
              "array([2.15621999, 6.80807419])"
            ]
          },
          "metadata": {
            "tags": []
          },
          "execution_count": 16
        }
      ]
    },
    {
      "cell_type": "code",
      "metadata": {
        "id": "UFbfxHl9mRyF",
        "colab_type": "code",
        "colab": {}
      },
      "source": [
        "def sigmoid(theta, x):\n",
        "    x = np.concatenate((np.ones((x.shape[0], 1)), x), axis=1)\n",
        "    z = np.dot(x, theta)\n",
        "    return 1 / (1 + np.exp(-z))"
      ],
      "execution_count": 0,
      "outputs": []
    },
    {
      "cell_type": "markdown",
      "metadata": {
        "id": "-COwzzQQmRyH",
        "colab_type": "text"
      },
      "source": [
        "### - Plot z vs output h (fungsi logistik)"
      ]
    },
    {
      "cell_type": "code",
      "metadata": {
        "id": "a1JR2j2OmRyH",
        "colab_type": "code",
        "outputId": "cc12132d-7fda-45dc-85ba-36a290d2dbf0",
        "colab": {
          "base_uri": "https://localhost:8080/",
          "height": 523
        }
      },
      "source": [
        "idx = np.array([[i] for i in np.arange(-5, 6, 0.1)])\n",
        "out = sigmoid(model.theta, idx)\n",
        "\n",
        "fig = plt.figure(figsize = (8,8))\n",
        "ax = fig.add_subplot(1,1,1) \n",
        "ax.set_xlabel('PC 1', fontsize = 15)\n",
        "ax.set_ylabel('Arabica (0) or Robusta (1)', fontsize = 15)\n",
        "ax.set_title('1 component PCA', fontsize = 20)\n",
        "targets = [0, 1]\n",
        "colors = ['r', 'b']\n",
        "ax.scatter(data_x[data_y == 0], data_y[data_y == 0], c='r', s=50)\n",
        "ax.scatter(data_x[data_y == 1], data_y[data_y == 1], c='b', s=50)\n",
        "\n",
        "ax.plot(idx, out)\n",
        "plt.xlim(min(pc_data['PC 1'] - 0.5),\n",
        "         max(pc_data['PC 1']) + 0.5)\n",
        "ax.legend(['logistic function', 'Arabica', 'Robusta'])\n",
        "ax.grid()"
      ],
      "execution_count": 0,
      "outputs": [
        {
          "output_type": "display_data",
          "data": {
            "image/png": "[encoded data removed]",
            "text/plain": [
              "<Figure size 576x576 with 1 Axes>"
            ]
          },
          "metadata": {
            "tags": [],
            "needs_background": "light"
          }
        }
      ]
    },
    {
      "cell_type": "markdown",
      "metadata": {
        "id": "SgS82oIrmRyK",
        "colab_type": "text"
      },
      "source": [
        "### - Plot Hasil Klasifikasi dengan Boundary Line"
      ]
    },
    {
      "cell_type": "code",
      "metadata": {
        "id": "HcIWb1wrmRyK",
        "colab_type": "code",
        "outputId": "4f3e61c6-0085-4e4e-ecbb-565cec53b6bd",
        "colab": {
          "base_uri": "https://localhost:8080/",
          "height": 523
        }
      },
      "source": [
        "fig = plt.figure(figsize = (8,8))\n",
        "ax = fig.add_subplot(1,1,1) \n",
        "ax.set_xlabel('PC 1', fontsize = 15)\n",
        "# ax.set_ylabel('PC 2', fontsize = 15)\n",
        "ax.set_title('1 component PCA', fontsize = 20)\n",
        "\n",
        "plt.ylim(bottom=-0.01)\n",
        "ax.scatter(data_x[data_y == 0], np.zeros(len(data_x[data_y == 0])), c='r', s=50)\n",
        "ax.scatter(data_x[data_y == 1], np.zeros(len(data_x[data_y == 0])), c='b', s=50)\n",
        "ax.plot([- model.theta[1] / model.theta[1], - model.theta[1] / model.theta[1]], [0,1])\n",
        "ax.legend(['Decission Boundary', 'Arabica', 'Robusta'])\n",
        "ax.grid()"
      ],
      "execution_count": 0,
      "outputs": [
        {
          "output_type": "display_data",
          "data": {
            "image/png": "[encoded data removed]",
            "text/plain": [
              "<Figure size 576x576 with 1 Axes>"
            ]
          },
          "metadata": {
            "tags": [],
            "needs_background": "light"
          }
        }
      ]
    },
    {
      "cell_type": "markdown",
      "metadata": {
        "id": "Oju_8jWxmRyO",
        "colab_type": "text"
      },
      "source": [
        "### - Testing"
      ]
    },
    {
      "cell_type": "code",
      "metadata": {
        "id": "2UvztBz5mRyP",
        "colab_type": "code",
        "outputId": "68d0d905-89d9-4c20-dbc3-2e63633ba822",
        "colab": {
          "base_uri": "https://localhost:8080/",
          "height": 450
        }
      },
      "source": [
        "# read sensor data from csv\n",
        "feature_cols = ['MQ-3', 'MQ-4', 'TGS 2610', 'MQ-136', 'TGS 822'];\n",
        "target_cols = ['Target']\n",
        "\n",
        "data_test = pd.read_csv('test.csv', index_col='Waktu')  \n",
        "data_test"
      ],
      "execution_count": 0,
      "outputs": [
        {
          "output_type": "execute_result",
          "data": {
            "text/html": [
              "<div>\n",
              "<style scoped>\n",
              "    .dataframe tbody tr th:only-of-type {\n",
              "        vertical-align: middle;\n",
              "    }\n",
              "\n",
              "    .dataframe tbody tr th {\n",
              "        vertical-align: top;\n",
              "    }\n",
              "\n",
              "    .dataframe thead th {\n",
              "        text-align: right;\n",
              "    }\n",
              "</style>\n",
              "<table border=\"1\" class=\"dataframe\">\n",
              "  <thead>\n",
              "    <tr style=\"text-align: right;\">\n",
              "      <th></th>\n",
              "      <th>MQ-3</th>\n",
              "      <th>MQ-4</th>\n",
              "      <th>TGS 2610</th>\n",
              "      <th>MQ-136</th>\n",
              "      <th>TGS 822</th>\n",
              "      <th>Target</th>\n",
              "    </tr>\n",
              "    <tr>\n",
              "      <th>Waktu</th>\n",
              "      <th></th>\n",
              "      <th></th>\n",
              "      <th></th>\n",
              "      <th></th>\n",
              "      <th></th>\n",
              "      <th></th>\n",
              "    </tr>\n",
              "  </thead>\n",
              "  <tbody>\n",
              "    <tr>\n",
              "      <th>1:24:38 PM</th>\n",
              "      <td>1700.3</td>\n",
              "      <td>450.8</td>\n",
              "      <td>39.2</td>\n",
              "      <td>1087.8</td>\n",
              "      <td>-34.3</td>\n",
              "      <td>0</td>\n",
              "    </tr>\n",
              "    <tr>\n",
              "      <th>1:24:39 PM</th>\n",
              "      <td>1700.3</td>\n",
              "      <td>455.7</td>\n",
              "      <td>39.2</td>\n",
              "      <td>1087.8</td>\n",
              "      <td>-34.3</td>\n",
              "      <td>0</td>\n",
              "    </tr>\n",
              "    <tr>\n",
              "      <th>1:24:40 PM</th>\n",
              "      <td>1705.2</td>\n",
              "      <td>455.7</td>\n",
              "      <td>39.2</td>\n",
              "      <td>1087.8</td>\n",
              "      <td>-34.3</td>\n",
              "      <td>0</td>\n",
              "    </tr>\n",
              "    <tr>\n",
              "      <th>1:24:41 PM</th>\n",
              "      <td>1705.2</td>\n",
              "      <td>455.7</td>\n",
              "      <td>39.2</td>\n",
              "      <td>1092.7</td>\n",
              "      <td>-44.1</td>\n",
              "      <td>0</td>\n",
              "    </tr>\n",
              "    <tr>\n",
              "      <th>1:24:42 PM</th>\n",
              "      <td>1705.2</td>\n",
              "      <td>455.7</td>\n",
              "      <td>44.1</td>\n",
              "      <td>1092.7</td>\n",
              "      <td>-39.2</td>\n",
              "      <td>0</td>\n",
              "    </tr>\n",
              "    <tr>\n",
              "      <th>...</th>\n",
              "      <td>...</td>\n",
              "      <td>...</td>\n",
              "      <td>...</td>\n",
              "      <td>...</td>\n",
              "      <td>...</td>\n",
              "      <td>...</td>\n",
              "    </tr>\n",
              "    <tr>\n",
              "      <th>1:07:45 PM</th>\n",
              "      <td>1587.6</td>\n",
              "      <td>548.8</td>\n",
              "      <td>53.9</td>\n",
              "      <td>994.7</td>\n",
              "      <td>-68.6</td>\n",
              "      <td>1</td>\n",
              "    </tr>\n",
              "    <tr>\n",
              "      <th>1:07:46 PM</th>\n",
              "      <td>1587.6</td>\n",
              "      <td>548.8</td>\n",
              "      <td>53.9</td>\n",
              "      <td>994.7</td>\n",
              "      <td>-68.6</td>\n",
              "      <td>1</td>\n",
              "    </tr>\n",
              "    <tr>\n",
              "      <th>1:07:47 PM</th>\n",
              "      <td>1592.5</td>\n",
              "      <td>553.7</td>\n",
              "      <td>53.9</td>\n",
              "      <td>994.7</td>\n",
              "      <td>-68.6</td>\n",
              "      <td>1</td>\n",
              "    </tr>\n",
              "    <tr>\n",
              "      <th>1:07:48 PM</th>\n",
              "      <td>1592.5</td>\n",
              "      <td>553.7</td>\n",
              "      <td>53.9</td>\n",
              "      <td>994.7</td>\n",
              "      <td>-68.6</td>\n",
              "      <td>1</td>\n",
              "    </tr>\n",
              "    <tr>\n",
              "      <th>1:07:49 PM</th>\n",
              "      <td>1592.5</td>\n",
              "      <td>553.7</td>\n",
              "      <td>53.9</td>\n",
              "      <td>999.6</td>\n",
              "      <td>-68.6</td>\n",
              "      <td>1</td>\n",
              "    </tr>\n",
              "  </tbody>\n",
              "</table>\n",
              "<p>62 rows × 6 columns</p>\n",
              "</div>"
            ],
            "text/plain": [
              "                MQ-3   MQ-4  TGS 2610  MQ-136  TGS 822  Target\n",
              "Waktu                                                         \n",
              " 1:24:38 PM   1700.3  450.8      39.2  1087.8    -34.3       0\n",
              " 1:24:39 PM   1700.3  455.7      39.2  1087.8    -34.3       0\n",
              " 1:24:40 PM   1705.2  455.7      39.2  1087.8    -34.3       0\n",
              " 1:24:41 PM   1705.2  455.7      39.2  1092.7    -44.1       0\n",
              " 1:24:42 PM   1705.2  455.7      44.1  1092.7    -39.2       0\n",
              "...              ...    ...       ...     ...      ...     ...\n",
              " 1:07:45 PM   1587.6  548.8      53.9   994.7    -68.6       1\n",
              " 1:07:46 PM   1587.6  548.8      53.9   994.7    -68.6       1\n",
              " 1:07:47 PM   1592.5  553.7      53.9   994.7    -68.6       1\n",
              " 1:07:48 PM   1592.5  553.7      53.9   994.7    -68.6       1\n",
              " 1:07:49 PM   1592.5  553.7      53.9   999.6    -68.6       1\n",
              "\n",
              "[62 rows x 6 columns]"
            ]
          },
          "metadata": {
            "tags": []
          },
          "execution_count": 20
        }
      ]
    },
    {
      "cell_type": "code",
      "metadata": {
        "id": "wLAn7eUhmRyT",
        "colab_type": "code",
        "outputId": "9c6532f3-9ec6-4b69-b2ad-35481b9595ea",
        "colab": {
          "base_uri": "https://localhost:8080/",
          "height": 419
        }
      },
      "source": [
        "data_feature = data_test.loc[:, feature_cols].values\n",
        "data_target = data_test.loc[:, target_cols].values.flatten()\n",
        "\n",
        "pc_test_data = data_preprocessing(standard_scaler, pca, data_test, feature_cols, target_cols, test=True)\n",
        "pc_test_data"
      ],
      "execution_count": 0,
      "outputs": [
        {
          "output_type": "execute_result",
          "data": {
            "text/html": [
              "<div>\n",
              "<style scoped>\n",
              "    .dataframe tbody tr th:only-of-type {\n",
              "        vertical-align: middle;\n",
              "    }\n",
              "\n",
              "    .dataframe tbody tr th {\n",
              "        vertical-align: top;\n",
              "    }\n",
              "\n",
              "    .dataframe thead th {\n",
              "        text-align: right;\n",
              "    }\n",
              "</style>\n",
              "<table border=\"1\" class=\"dataframe\">\n",
              "  <thead>\n",
              "    <tr style=\"text-align: right;\">\n",
              "      <th></th>\n",
              "      <th>PC 1</th>\n",
              "      <th>PC 2</th>\n",
              "      <th>Target</th>\n",
              "    </tr>\n",
              "  </thead>\n",
              "  <tbody>\n",
              "    <tr>\n",
              "      <th>0</th>\n",
              "      <td>-1.285928</td>\n",
              "      <td>0.006688</td>\n",
              "      <td>0</td>\n",
              "    </tr>\n",
              "    <tr>\n",
              "      <th>1</th>\n",
              "      <td>-1.224025</td>\n",
              "      <td>0.070957</td>\n",
              "      <td>0</td>\n",
              "    </tr>\n",
              "    <tr>\n",
              "      <th>2</th>\n",
              "      <td>-1.240799</td>\n",
              "      <td>0.076557</td>\n",
              "      <td>0</td>\n",
              "    </tr>\n",
              "    <tr>\n",
              "      <th>3</th>\n",
              "      <td>-1.144860</td>\n",
              "      <td>0.155008</td>\n",
              "      <td>0</td>\n",
              "    </tr>\n",
              "    <tr>\n",
              "      <th>4</th>\n",
              "      <td>-1.269742</td>\n",
              "      <td>0.340846</td>\n",
              "      <td>0</td>\n",
              "    </tr>\n",
              "    <tr>\n",
              "      <th>...</th>\n",
              "      <td>...</td>\n",
              "      <td>...</td>\n",
              "      <td>...</td>\n",
              "    </tr>\n",
              "    <tr>\n",
              "      <th>57</th>\n",
              "      <td>0.833301</td>\n",
              "      <td>2.009500</td>\n",
              "      <td>1</td>\n",
              "    </tr>\n",
              "    <tr>\n",
              "      <th>58</th>\n",
              "      <td>0.833301</td>\n",
              "      <td>2.009500</td>\n",
              "      <td>1</td>\n",
              "    </tr>\n",
              "    <tr>\n",
              "      <th>59</th>\n",
              "      <td>0.878431</td>\n",
              "      <td>2.079369</td>\n",
              "      <td>1</td>\n",
              "    </tr>\n",
              "    <tr>\n",
              "      <th>60</th>\n",
              "      <td>0.878431</td>\n",
              "      <td>2.079369</td>\n",
              "      <td>1</td>\n",
              "    </tr>\n",
              "    <tr>\n",
              "      <th>61</th>\n",
              "      <td>0.862166</td>\n",
              "      <td>2.083684</td>\n",
              "      <td>1</td>\n",
              "    </tr>\n",
              "  </tbody>\n",
              "</table>\n",
              "<p>62 rows × 3 columns</p>\n",
              "</div>"
            ],
            "text/plain": [
              "        PC 1      PC 2  Target\n",
              "0  -1.285928  0.006688       0\n",
              "1  -1.224025  0.070957       0\n",
              "2  -1.240799  0.076557       0\n",
              "3  -1.144860  0.155008       0\n",
              "4  -1.269742  0.340846       0\n",
              "..       ...       ...     ...\n",
              "57  0.833301  2.009500       1\n",
              "58  0.833301  2.009500       1\n",
              "59  0.878431  2.079369       1\n",
              "60  0.878431  2.079369       1\n",
              "61  0.862166  2.083684       1\n",
              "\n",
              "[62 rows x 3 columns]"
            ]
          },
          "metadata": {
            "tags": []
          },
          "execution_count": 21
        }
      ]
    },
    {
      "cell_type": "code",
      "metadata": {
        "id": "Fur_jVwImRyW",
        "colab_type": "code",
        "outputId": "d6f1dfca-d9d6-4a52-f3ca-0e94e93c8552",
        "colab": {
          "base_uri": "https://localhost:8080/",
          "height": 523
        }
      },
      "source": [
        "fig = plt.figure(figsize = (8,8))\n",
        "ax = fig.add_subplot(1,1,1) \n",
        "ax.set_xlabel('PC 1', fontsize = 15)\n",
        "# ax.set_ylabel('PC 2', fontsize = 15)\n",
        "ax.set_title('1 component PCA', fontsize = 20)\n",
        "\n",
        "plt.ylim(bottom=-0.01)\n",
        "ax.scatter(pc_test_data[['PC 1']][pc_test_data['Target'] == 0], np.zeros(len(pc_test_data[['PC 1']][pc_test_data['Target'] == 0])), c='r', s=50)\n",
        "ax.scatter(pc_test_data[['PC 1']][pc_test_data['Target'] == 1], np.zeros(len(pc_test_data[['PC 1']][pc_test_data['Target'] == 1])), c='b', s=50)\n",
        "# ax.plot([- model.theta[1] / model.theta[1], - model.theta[1] / model.theta[1]], [0,1])\n",
        "ax.legend(['Decission Boundary', 'Arabica', 'Robusta'])\n",
        "ax.grid()"
      ],
      "execution_count": 0,
      "outputs": [
        {
          "output_type": "display_data",
          "data": {
            "image/png": "[encoded data removed]",
            "text/plain": [
              "<Figure size 576x576 with 1 Axes>"
            ]
          },
          "metadata": {
            "tags": [],
            "needs_background": "light"
          }
        }
      ]
    },
    {
      "cell_type": "code",
      "metadata": {
        "id": "_04L-Q3MmRyY",
        "colab_type": "code",
        "outputId": "460d46c5-ac70-47fa-905d-bdd13322d308",
        "colab": {
          "base_uri": "https://localhost:8080/",
          "height": 523
        }
      },
      "source": [
        "fig = plt.figure(figsize = (8,8))\n",
        "ax = fig.add_subplot(1,1,1) \n",
        "ax.set_xlabel('PC 1', fontsize = 15)\n",
        "# ax.set_ylabel('PC 2', fontsize = 15)\n",
        "ax.set_title('1 component PCA', fontsize = 20)\n",
        "\n",
        "plt.ylim(bottom=-0.01)\n",
        "ax.scatter(pc_test_data[['PC 1']][pc_test_data['Target'] == 0], np.zeros(len(pc_test_data[['PC 1']][pc_test_data['Target'] == 0])), c='r', s=50)\n",
        "ax.scatter(pc_test_data[['PC 1']][pc_test_data['Target'] == 1], np.zeros(len(pc_test_data[['PC 1']][pc_test_data['Target'] == 1])), c='b', s=50)\n",
        "ax.plot([- model.theta[1] / model.theta[1], - model.theta[1] / model.theta[1]], [0,1])\n",
        "ax.legend(['Decission Boundary', 'Arabica', 'Robusta'])\n",
        "ax.grid()"
      ],
      "execution_count": 0,
      "outputs": [
        {
          "output_type": "display_data",
          "data": {
            "image/png": "[encoded data removed]",
            "text/plain": [
              "<Figure size 576x576 with 1 Axes>"
            ]
          },
          "metadata": {
            "tags": [],
            "needs_background": "light"
          }
        }
      ]
    },
    {
      "cell_type": "code",
      "metadata": {
        "id": "TNU6sKSDmRya",
        "colab_type": "code",
        "outputId": "76c8f2df-4e11-442b-b1e7-a5b027710857",
        "colab": {
          "base_uri": "https://localhost:8080/",
          "height": 523
        }
      },
      "source": [
        "def sigmoid(theta, x):\n",
        "    x = np.concatenate((np.ones((x.shape[0], 1)), x), axis=1)\n",
        "    z = np.dot(x, theta)\n",
        "    return z, 1 / (1 + np.exp(-z))\n",
        "\n",
        "idx = np.array([[i] for i in np.arange(-10, 10, 0.1)])\n",
        "out = sigmoid(model.theta, idx)\n",
        "\n",
        "test_X = np.array(pc_test_data)[:,0:1]\n",
        "test_y = np.array(data_target)\n",
        "\n",
        "fig = plt.figure(figsize = (8,8))\n",
        "ax = fig.add_subplot(1,1,1) \n",
        "ax.set_xlabel('z', fontsize = 15)\n",
        "ax.set_ylabel('Arabica (0) or Robusta (1)', fontsize = 15)\n",
        "ax.set_title('Plot z vs output logistic function', fontsize = 20)\n",
        "\n",
        "z_test, data_prediction_test = sigmoid(model.theta, test_X)\n",
        "plt.scatter(z_test[test_y == 1], data_prediction_test[test_y == 1], color='b', label='Arabica')\n",
        "plt.scatter(z_test[test_y == 0], data_prediction_test[test_y == 0], color='r', label='Robusta')\n",
        "\n",
        "ax.plot(idx, [1 / (1 + np.exp(-i)) for i in idx])\n",
        "plt.xlim(min(z_test) - 0.5,\n",
        "         max(z_test) + 0.5)\n",
        "ax.legend(['logistic function', 'Arabica', 'Robusta'])\n",
        "ax.grid()"
      ],
      "execution_count": 0,
      "outputs": [
        {
          "output_type": "display_data",
          "data": {
            "image/png": "[encoded data removed]",
            "text/plain": [
              "<Figure size 576x576 with 1 Axes>"
            ]
          },
          "metadata": {
            "tags": [],
            "needs_background": "light"
          }
        }
      ]
    },
    {
      "cell_type": "markdown",
      "metadata": {
        "id": "zk0fi4W0mRye",
        "colab_type": "text"
      },
      "source": [
        "### - Result Test"
      ]
    },
    {
      "cell_type": "code",
      "metadata": {
        "id": "ojFEFIGhmRye",
        "colab_type": "code",
        "outputId": "e8de8f9b-36ef-4399-bd49-4c4a80838904",
        "colab": {
          "base_uri": "https://localhost:8080/",
          "height": 289
        }
      },
      "source": [
        "tn, fp, fn, tp = confusion_matrix(test_y, data_prediction_test.round()).ravel()\n",
        "print('True Positif (TP): {}'.format(tp))\n",
        "print('True Negatif (TN): {}'.format(tn))\n",
        "print('False Positif (FP): {}'.format(fp))\n",
        "print('False Negatif (FN): {}'.format(fn), end='\\r\\n\\r\\n')\n",
        "\n",
        "print('Accuracy Score :',accuracy_score(test_y, data_prediction_test.round()))\n",
        "print('Report : ')\n",
        "print(classification_report(test_y, data_prediction_test.round()))"
      ],
      "execution_count": 0,
      "outputs": [
        {
          "output_type": "stream",
          "text": [
            "True Positif (TP): 31\n",
            "True Negatif (TN): 31\n",
            "False Positif (FP): 0\n",
            "False Negatif (FN): 0\r\n",
            "\r\n",
            "Accuracy Score : 1.0\n",
            "Report : \n",
            "              precision    recall  f1-score   support\n",
            "\n",
            "           0       1.00      1.00      1.00        31\n",
            "           1       1.00      1.00      1.00        31\n",
            "\n",
            "    accuracy                           1.00        62\n",
            "   macro avg       1.00      1.00      1.00        62\n",
            "weighted avg       1.00      1.00      1.00        62\n",
            "\n"
          ],
          "name": "stdout"
        }
      ]
    },
    {
      "cell_type": "code",
      "metadata": {
        "id": "UrJbjfT0rD5c",
        "colab_type": "code",
        "colab": {}
      },
      "source": [
        ""
      ],
      "execution_count": 0,
      "outputs": []
    }
  ]
}